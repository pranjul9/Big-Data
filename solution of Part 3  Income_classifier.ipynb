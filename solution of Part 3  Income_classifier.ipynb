{
 "cells": [
  {
   "cell_type": "code",
   "execution_count": null,
   "metadata": {
    "collapsed": true
   },
   "outputs": [],
   "source": [
    "#NOTE: Below model is tune according to Edureka lab but actually run on standard laptop "
   ]
  },
  {
   "cell_type": "markdown",
   "metadata": {},
   "source": [
    "### Load data using PySpark"
   ]
  },
  {
   "cell_type": "code",
   "execution_count": 1,
   "metadata": {},
   "outputs": [],
   "source": [
    "import pandas as pd \n",
    "import numpy as np\n",
    "from pyspark.sql import SparkSession\n",
    "spark = SparkSession.builder.getOrCreate()"
   ]
  },
  {
   "cell_type": "markdown",
   "metadata": {},
   "source": [
    "df=spark.sql(\"select * from labuser_database.census_adult_hive_edureka_1042728 \") # data extracted from hive\n",
    "#You can also download data from hive on local computer and run on jupter note book\n"
   ]
  },
  {
   "cell_type": "code",
   "execution_count": 4,
   "metadata": {},
   "outputs": [],
   "source": [
    "df = spark.read.csv('censusdata.csv')"
   ]
  },
  {
   "cell_type": "markdown",
   "metadata": {},
   "source": [
    "### Perform Exploratory Data Analysis (EDA) and Data Cleaning based on the following"
   ]
  },
  {
   "cell_type": "code",
   "execution_count": 5,
   "metadata": {},
   "outputs": [
    {
     "name": "stdout",
     "output_type": "stream",
     "text": [
      "root\n",
      " |-- _c0: string (nullable = true)\n",
      " |-- _c1: string (nullable = true)\n",
      " |-- _c2: string (nullable = true)\n",
      " |-- _c3: string (nullable = true)\n",
      " |-- _c4: string (nullable = true)\n",
      " |-- _c5: string (nullable = true)\n",
      " |-- _c6: string (nullable = true)\n",
      " |-- _c7: string (nullable = true)\n",
      " |-- _c8: string (nullable = true)\n",
      " |-- _c9: string (nullable = true)\n",
      " |-- _c10: string (nullable = true)\n",
      " |-- _c11: string (nullable = true)\n",
      " |-- _c12: string (nullable = true)\n",
      " |-- _c13: string (nullable = true)\n",
      " |-- _c14: string (nullable = true)\n",
      "\n"
     ]
    }
   ],
   "source": [
    "df.printSchema()"
   ]
  },
  {
   "cell_type": "code",
   "execution_count": 7,
   "metadata": {
    "collapsed": true
   },
   "outputs": [],
   "source": [
    "num_features  = ['age', 'fnlwgt','capital_gain', 'education_num', 'capital_loss', 'hours_per_week']"
   ]
  },
  {
   "cell_type": "code",
   "execution_count": 9,
   "metadata": {
    "collapsed": true
   },
   "outputs": [],
   "source": [
    "df1 = df.toPandas() # getting in pandas for statistic"
   ]
  },
  {
   "cell_type": "markdown",
   "metadata": {},
   "source": [
    "### a) Find the shape and schema of the dataset"
   ]
  },
  {
   "cell_type": "code",
   "execution_count": 7,
   "metadata": {},
   "outputs": [
    {
     "name": "stdout",
     "output_type": "stream",
     "text": [
      "Total number of records:92561\n",
      "Individual making more than $50,000: 22153\n",
      "Individual making at most $50,000: 70408\n",
      "Percentage of individuals making more than $50,000: 23.933406078153865%\n"
     ]
    }
   ],
   "source": [
    "n_records = df1.shape[0]\n",
    "n_greater_50k = df1[df1['income']=='>50K'].shape[0]\n",
    "n_lessOrEqual_50k = df1[df1['income']=='<=50K'].shape[0]\n",
    "greater_percent = (float(n_greater_50k)/n_records)*100\n",
    "print(\"Total number of records:{}\".format(n_records))\n",
    "print(\"Individual making more than $50,000: {}\".format(n_greater_50k))\n",
    "print(\"Individual making at most $50,000: {}\".format(n_lessOrEqual_50k))\n",
    "print(\"Percentage of individuals making more than $50,000: {}%\".format(greater_percent))"
   ]
  },
  {
   "cell_type": "markdown",
   "metadata": {},
   "source": [
    "### b) Obtain insights (statistics) of different columns"
   ]
  },
  {
   "cell_type": "code",
   "execution_count": 8,
   "metadata": {},
   "outputs": [
    {
     "data": {
      "text/html": [
       "<div>\n",
       "<style scoped>\n",
       "    .dataframe tbody tr th:only-of-type {\n",
       "        vertical-align: middle;\n",
       "    }\n",
       "\n",
       "    .dataframe tbody tr th {\n",
       "        vertical-align: top;\n",
       "    }\n",
       "\n",
       "    .dataframe thead th {\n",
       "        text-align: right;\n",
       "    }\n",
       "</style>\n",
       "<table border=\"1\" class=\"dataframe\">\n",
       "  <thead>\n",
       "    <tr style=\"text-align: right;\">\n",
       "      <th></th>\n",
       "      <th>age</th>\n",
       "      <th>fnlwgt</th>\n",
       "      <th>education_num</th>\n",
       "      <th>capital_gain</th>\n",
       "      <th>capital_loss</th>\n",
       "      <th>hours_per_week</th>\n",
       "    </tr>\n",
       "  </thead>\n",
       "  <tbody>\n",
       "    <tr>\n",
       "      <th>count</th>\n",
       "      <td>92561.000000</td>\n",
       "      <td>9.256100e+04</td>\n",
       "      <td>92561.000000</td>\n",
       "      <td>92561.000000</td>\n",
       "      <td>92561.000000</td>\n",
       "      <td>92561.000000</td>\n",
       "    </tr>\n",
       "    <tr>\n",
       "      <th>mean</th>\n",
       "      <td>38.518070</td>\n",
       "      <td>1.895424e+05</td>\n",
       "      <td>10.075237</td>\n",
       "      <td>1046.297485</td>\n",
       "      <td>87.933136</td>\n",
       "      <td>40.433086</td>\n",
       "    </tr>\n",
       "    <tr>\n",
       "      <th>std</th>\n",
       "      <td>13.622754</td>\n",
       "      <td>1.058131e+05</td>\n",
       "      <td>2.573215</td>\n",
       "      <td>7220.801270</td>\n",
       "      <td>404.321777</td>\n",
       "      <td>12.324731</td>\n",
       "    </tr>\n",
       "    <tr>\n",
       "      <th>min</th>\n",
       "      <td>17.000000</td>\n",
       "      <td>1.228500e+04</td>\n",
       "      <td>1.000000</td>\n",
       "      <td>0.000000</td>\n",
       "      <td>0.000000</td>\n",
       "      <td>1.000000</td>\n",
       "    </tr>\n",
       "    <tr>\n",
       "      <th>25%</th>\n",
       "      <td>28.000000</td>\n",
       "      <td>1.176060e+05</td>\n",
       "      <td>9.000000</td>\n",
       "      <td>0.000000</td>\n",
       "      <td>0.000000</td>\n",
       "      <td>40.000000</td>\n",
       "    </tr>\n",
       "    <tr>\n",
       "      <th>50%</th>\n",
       "      <td>37.000000</td>\n",
       "      <td>1.780330e+05</td>\n",
       "      <td>10.000000</td>\n",
       "      <td>0.000000</td>\n",
       "      <td>0.000000</td>\n",
       "      <td>40.000000</td>\n",
       "    </tr>\n",
       "    <tr>\n",
       "      <th>75%</th>\n",
       "      <td>48.000000</td>\n",
       "      <td>2.367840e+05</td>\n",
       "      <td>12.000000</td>\n",
       "      <td>0.000000</td>\n",
       "      <td>0.000000</td>\n",
       "      <td>45.000000</td>\n",
       "    </tr>\n",
       "    <tr>\n",
       "      <th>max</th>\n",
       "      <td>90.000000</td>\n",
       "      <td>1.484705e+06</td>\n",
       "      <td>16.000000</td>\n",
       "      <td>99999.000000</td>\n",
       "      <td>4356.000000</td>\n",
       "      <td>99.000000</td>\n",
       "    </tr>\n",
       "  </tbody>\n",
       "</table>\n",
       "</div>"
      ],
      "text/plain": [
       "                age        fnlwgt  education_num  capital_gain  capital_loss  \\\n",
       "count  92561.000000  9.256100e+04   92561.000000  92561.000000  92561.000000   \n",
       "mean      38.518070  1.895424e+05      10.075237   1046.297485     87.933136   \n",
       "std       13.622754  1.058131e+05       2.573215   7220.801270    404.321777   \n",
       "min       17.000000  1.228500e+04       1.000000      0.000000      0.000000   \n",
       "25%       28.000000  1.176060e+05       9.000000      0.000000      0.000000   \n",
       "50%       37.000000  1.780330e+05      10.000000      0.000000      0.000000   \n",
       "75%       48.000000  2.367840e+05      12.000000      0.000000      0.000000   \n",
       "max       90.000000  1.484705e+06      16.000000  99999.000000   4356.000000   \n",
       "\n",
       "       hours_per_week  \n",
       "count    92561.000000  \n",
       "mean        40.433086  \n",
       "std         12.324731  \n",
       "min          1.000000  \n",
       "25%         40.000000  \n",
       "50%         40.000000  \n",
       "75%         45.000000  \n",
       "max         99.000000  "
      ]
     },
     "execution_count": 8,
     "metadata": {},
     "output_type": "execute_result"
    }
   ],
   "source": [
    "df1.describe()"
   ]
  },
  {
   "cell_type": "code",
   "execution_count": 9,
   "metadata": {},
   "outputs": [
    {
     "data": {
      "text/html": [
       "<div>\n",
       "<style scoped>\n",
       "    .dataframe tbody tr th:only-of-type {\n",
       "        vertical-align: middle;\n",
       "    }\n",
       "\n",
       "    .dataframe tbody tr th {\n",
       "        vertical-align: top;\n",
       "    }\n",
       "\n",
       "    .dataframe thead th {\n",
       "        text-align: right;\n",
       "    }\n",
       "</style>\n",
       "<table border=\"1\" class=\"dataframe\">\n",
       "  <thead>\n",
       "    <tr style=\"text-align: right;\">\n",
       "      <th></th>\n",
       "      <th>workclass</th>\n",
       "      <th>education</th>\n",
       "      <th>marital_status</th>\n",
       "      <th>occupation</th>\n",
       "      <th>relationship</th>\n",
       "      <th>race</th>\n",
       "      <th>sex</th>\n",
       "      <th>native_country</th>\n",
       "      <th>income</th>\n",
       "    </tr>\n",
       "  </thead>\n",
       "  <tbody>\n",
       "    <tr>\n",
       "      <th>count</th>\n",
       "      <td>92561</td>\n",
       "      <td>92561</td>\n",
       "      <td>92561</td>\n",
       "      <td>92561</td>\n",
       "      <td>92561</td>\n",
       "      <td>92561</td>\n",
       "      <td>92561</td>\n",
       "      <td>92561</td>\n",
       "      <td>92561</td>\n",
       "    </tr>\n",
       "    <tr>\n",
       "      <th>unique</th>\n",
       "      <td>9</td>\n",
       "      <td>16</td>\n",
       "      <td>7</td>\n",
       "      <td>15</td>\n",
       "      <td>6</td>\n",
       "      <td>5</td>\n",
       "      <td>2</td>\n",
       "      <td>42</td>\n",
       "      <td>2</td>\n",
       "    </tr>\n",
       "    <tr>\n",
       "      <th>top</th>\n",
       "      <td>Private</td>\n",
       "      <td>HS-grad</td>\n",
       "      <td>Married-civ-spouse</td>\n",
       "      <td>Craft-repair</td>\n",
       "      <td>Husband</td>\n",
       "      <td>White</td>\n",
       "      <td>Male</td>\n",
       "      <td>United-States</td>\n",
       "      <td>&lt;=50K</td>\n",
       "    </tr>\n",
       "    <tr>\n",
       "      <th>freq</th>\n",
       "      <td>64746</td>\n",
       "      <td>29864</td>\n",
       "      <td>42489</td>\n",
       "      <td>11766</td>\n",
       "      <td>37345</td>\n",
       "      <td>79041</td>\n",
       "      <td>61878</td>\n",
       "      <td>82795</td>\n",
       "      <td>70408</td>\n",
       "    </tr>\n",
       "  </tbody>\n",
       "</table>\n",
       "</div>"
      ],
      "text/plain": [
       "       workclass education      marital_status    occupation relationship  \\\n",
       "count      92561     92561               92561         92561        92561   \n",
       "unique         9        16                   7            15            6   \n",
       "top      Private   HS-grad  Married-civ-spouse  Craft-repair      Husband   \n",
       "freq       64746     29864               42489         11766        37345   \n",
       "\n",
       "         race    sex native_country income  \n",
       "count   92561  92561          92561  92561  \n",
       "unique      5      2             42      2  \n",
       "top     White   Male  United-States  <=50K  \n",
       "freq    79041  61878          82795  70408  "
      ]
     },
     "execution_count": 9,
     "metadata": {},
     "output_type": "execute_result"
    }
   ],
   "source": [
    "df1.describe(include='O')"
   ]
  },
  {
   "cell_type": "markdown",
   "metadata": {},
   "source": [
    "### c) Obtain the Unique values of Categorical Columns \n",
    "### g) Obtain distinct values and their counts in categorical columns.\n"
   ]
  },
  {
   "cell_type": "code",
   "execution_count": 10,
   "metadata": {},
   "outputs": [
    {
     "name": "stdout",
     "output_type": "stream",
     "text": [
      "workclass\n",
      "Private             64746\n",
      "Self-emp-not-inc     7266\n",
      "Local-gov            5903\n",
      "others               5070\n",
      "State-gov            3663\n",
      "Self-emp-inc         3149\n",
      "Federal-gov          2704\n",
      "Without-pay            38\n",
      "Never-worked           22\n",
      "Name: workclass, dtype: int64\n",
      "education\n",
      "HS-grad         29864\n",
      "Some-college    20659\n",
      "Bachelors       15282\n",
      "Masters          4909\n",
      "Assoc-voc        3974\n",
      "11th             3424\n",
      "Assoc-acdm       2931\n",
      "10th             2608\n",
      "7th-8th          1849\n",
      "Prof-school      1622\n",
      "9th              1460\n",
      "12th             1253\n",
      "Doctorate        1143\n",
      "5th-6th           950\n",
      "1st-4th           493\n",
      "Preschool         140\n",
      "Name: education, dtype: int64\n",
      "marital_status\n",
      "Married-civ-spouse      42489\n",
      "Never-married           30614\n",
      "Divorced                12385\n",
      "Separated                3009\n",
      "Widowed                  2807\n",
      "Married-spouse-absen     1191\n",
      "Married-AF-spouse          66\n",
      "Name: marital_status, dtype: int64\n",
      "occupation\n",
      "Craft-repair         11766\n",
      "Prof-specialty       11644\n",
      "Exec-managerial      11541\n",
      "Adm-clerical         10764\n",
      "Sales                10438\n",
      "Other-service         9499\n",
      "Machine-op-inspct     5685\n",
      "other                 5092\n",
      "Transport-moving      4537\n",
      "Handlers-cleaners     3861\n",
      "Farming-fishing       2805\n",
      "Tech-support          2649\n",
      "Protective-serv       1807\n",
      "Priv-house-serv        442\n",
      "Armed-Forces            31\n",
      "Name: occupation, dtype: int64\n",
      "relationship\n",
      "Husband           37345\n",
      "Not-in-family     23446\n",
      "Own-child         14546\n",
      "Unmarried          9880\n",
      "Wife               4520\n",
      "Other-relative     2824\n",
      "Name: relationship, dtype: int64\n",
      "race\n",
      "White                 79041\n",
      "Black                  8904\n",
      "Asian-Pac-Islander     2959\n",
      "Amer-Indian-Eskimo      894\n",
      "Other                   763\n",
      "Name: race, dtype: int64\n",
      "sex\n",
      "Male      61878\n",
      "Female    30683\n",
      "Name: sex, dtype: int64\n",
      "native_country\n",
      "United-States                 82795\n",
      "Mexico                         1843\n",
      "other                          1689\n",
      "Philippines                     553\n",
      "Germany                         398\n",
      "Puerto-Rico                     334\n",
      "Canada                          334\n",
      "El-Salvador                     315\n",
      "India                           283\n",
      "Cuba                            263\n",
      "England                         256\n",
      "Jamaica                         237\n",
      "South                           223\n",
      "Dominican-Republic              222\n",
      "China                           217\n",
      "Italy                           212\n",
      "Japan                           199\n",
      "Guatemala                       195\n",
      "Vietnam                         187\n",
      "Poland                          169\n",
      "Columbia                        163\n",
      "Taiwan                          138\n",
      "Haiti                           122\n",
      "Portugal                        111\n",
      "Iran                            110\n",
      "Greece                          102\n",
      "France                          100\n",
      "Nicaragua                        97\n",
      "Peru                             83\n",
      "Ecuador                          76\n",
      "Ireland                          68\n",
      "Laos                             55\n",
      "Hong                             54\n",
      "Thailand                         52\n",
      "Trinadad&Tobago                  50\n",
      "Cambodia                         46\n",
      "Yugoslavia                       46\n",
      "Outlying-US(Guam-USVI-etc)       44\n",
      "Honduras                         40\n",
      "Scotland                         39\n",
      "Hungary                          38\n",
      "Holand-Netherlands                3\n",
      "Name: native_country, dtype: int64\n",
      "income\n",
      "<=50K    70408\n",
      ">50K     22153\n",
      "Name: income, dtype: int64\n"
     ]
    }
   ],
   "source": [
    "str_features = [t[0] for t in df.dtypes if t[1] == 'string']\n",
    "\n",
    "for c in str_features:\n",
    "    print(c)\n",
    "    print(df1[c].value_counts())"
   ]
  },
  {
   "cell_type": "markdown",
   "metadata": {},
   "source": [
    "### d) Check if any unwanted values are present in the data such as Null, ? or NaN"
   ]
  },
  {
   "cell_type": "code",
   "execution_count": 11,
   "metadata": {},
   "outputs": [
    {
     "name": "stdout",
     "output_type": "stream",
     "text": [
      "age 0\n",
      "workclass 0\n",
      "fnlwgt 0\n",
      "education 0\n",
      "education_num 0\n",
      "marital_status 0\n",
      "occupation 0\n",
      "relationship 0\n",
      "race 0\n",
      "sex 0\n",
      "capital_gain 0\n",
      "capital_loss 0\n",
      "hours_per_week 0\n",
      "native_country 0\n",
      "income 0\n"
     ]
    }
   ],
   "source": [
    "# Number of null values\n",
    "for i in df.columns:\n",
    "    print(i,df.where(df[i].isNull()).count())"
   ]
  },
  {
   "cell_type": "code",
   "execution_count": 12,
   "metadata": {},
   "outputs": [
    {
     "name": "stdout",
     "output_type": "stream",
     "text": [
      "age 0\n",
      "workclass 0\n",
      "fnlwgt 0\n",
      "education 0\n",
      "education_num 0\n",
      "marital_status 0\n",
      "occupation 0\n",
      "relationship 0\n",
      "race 0\n",
      "sex 0\n",
      "capital_gain 0\n",
      "capital_loss 0\n",
      "hours_per_week 0\n",
      "native_country 0\n",
      "income 0\n"
     ]
    }
   ],
   "source": [
    "for col in df.columns:\n",
    "    print(col, df.filter(df[col]=='NaN').count())"
   ]
  },
  {
   "cell_type": "markdown",
   "metadata": {},
   "source": [
    "### e) Remove unwanted values if present in any of the columns (numerical as wellas categorical columns)\n",
    "### Ans: Aready removed in data igestion process hive\n"
   ]
  },
  {
   "cell_type": "markdown",
   "metadata": {},
   "source": [
    "### h)Create a crosstab on two different columns (example, age & workclass)"
   ]
  },
  {
   "cell_type": "code",
   "execution_count": 13,
   "metadata": {},
   "outputs": [
    {
     "data": {
      "text/html": [
       "<div>\n",
       "<style scoped>\n",
       "    .dataframe tbody tr th:only-of-type {\n",
       "        vertical-align: middle;\n",
       "    }\n",
       "\n",
       "    .dataframe tbody tr th {\n",
       "        vertical-align: top;\n",
       "    }\n",
       "\n",
       "    .dataframe thead th {\n",
       "        text-align: right;\n",
       "    }\n",
       "</style>\n",
       "<table border=\"1\" class=\"dataframe\">\n",
       "  <thead>\n",
       "    <tr style=\"text-align: right;\">\n",
       "      <th>age</th>\n",
       "      <th>17.0</th>\n",
       "      <th>18.0</th>\n",
       "      <th>19.0</th>\n",
       "      <th>20.0</th>\n",
       "      <th>21.0</th>\n",
       "      <th>22.0</th>\n",
       "      <th>23.0</th>\n",
       "      <th>24.0</th>\n",
       "      <th>25.0</th>\n",
       "      <th>26.0</th>\n",
       "      <th>...</th>\n",
       "      <th>80.0</th>\n",
       "      <th>81.0</th>\n",
       "      <th>82.0</th>\n",
       "      <th>83.0</th>\n",
       "      <th>84.0</th>\n",
       "      <th>85.0</th>\n",
       "      <th>86.0</th>\n",
       "      <th>87.0</th>\n",
       "      <th>88.0</th>\n",
       "      <th>90.0</th>\n",
       "    </tr>\n",
       "    <tr>\n",
       "      <th>workclass</th>\n",
       "      <th></th>\n",
       "      <th></th>\n",
       "      <th></th>\n",
       "      <th></th>\n",
       "      <th></th>\n",
       "      <th></th>\n",
       "      <th></th>\n",
       "      <th></th>\n",
       "      <th></th>\n",
       "      <th></th>\n",
       "      <th></th>\n",
       "      <th></th>\n",
       "      <th></th>\n",
       "      <th></th>\n",
       "      <th></th>\n",
       "      <th></th>\n",
       "      <th></th>\n",
       "      <th></th>\n",
       "      <th></th>\n",
       "      <th></th>\n",
       "      <th></th>\n",
       "    </tr>\n",
       "  </thead>\n",
       "  <tbody>\n",
       "    <tr>\n",
       "      <th>Federal-gov</th>\n",
       "      <td>2</td>\n",
       "      <td>11</td>\n",
       "      <td>16</td>\n",
       "      <td>26</td>\n",
       "      <td>4</td>\n",
       "      <td>30</td>\n",
       "      <td>38</td>\n",
       "      <td>37</td>\n",
       "      <td>22</td>\n",
       "      <td>38</td>\n",
       "      <td>...</td>\n",
       "      <td>0</td>\n",
       "      <td>0</td>\n",
       "      <td>0</td>\n",
       "      <td>0</td>\n",
       "      <td>0</td>\n",
       "      <td>0</td>\n",
       "      <td>0</td>\n",
       "      <td>0</td>\n",
       "      <td>0</td>\n",
       "      <td>4</td>\n",
       "    </tr>\n",
       "    <tr>\n",
       "      <th>Local-gov</th>\n",
       "      <td>36</td>\n",
       "      <td>24</td>\n",
       "      <td>23</td>\n",
       "      <td>36</td>\n",
       "      <td>28</td>\n",
       "      <td>55</td>\n",
       "      <td>101</td>\n",
       "      <td>101</td>\n",
       "      <td>123</td>\n",
       "      <td>140</td>\n",
       "      <td>...</td>\n",
       "      <td>1</td>\n",
       "      <td>0</td>\n",
       "      <td>0</td>\n",
       "      <td>0</td>\n",
       "      <td>7</td>\n",
       "      <td>0</td>\n",
       "      <td>0</td>\n",
       "      <td>0</td>\n",
       "      <td>0</td>\n",
       "      <td>11</td>\n",
       "    </tr>\n",
       "    <tr>\n",
       "      <th>Never-worked</th>\n",
       "      <td>2</td>\n",
       "      <td>11</td>\n",
       "      <td>0</td>\n",
       "      <td>3</td>\n",
       "      <td>0</td>\n",
       "      <td>0</td>\n",
       "      <td>3</td>\n",
       "      <td>0</td>\n",
       "      <td>0</td>\n",
       "      <td>0</td>\n",
       "      <td>...</td>\n",
       "      <td>0</td>\n",
       "      <td>0</td>\n",
       "      <td>0</td>\n",
       "      <td>0</td>\n",
       "      <td>0</td>\n",
       "      <td>0</td>\n",
       "      <td>0</td>\n",
       "      <td>0</td>\n",
       "      <td>0</td>\n",
       "      <td>0</td>\n",
       "    </tr>\n",
       "    <tr>\n",
       "      <th>Private</th>\n",
       "      <td>888</td>\n",
       "      <td>1204</td>\n",
       "      <td>1573</td>\n",
       "      <td>1627</td>\n",
       "      <td>1642</td>\n",
       "      <td>1750</td>\n",
       "      <td>2147</td>\n",
       "      <td>1879</td>\n",
       "      <td>2008</td>\n",
       "      <td>1805</td>\n",
       "      <td>...</td>\n",
       "      <td>22</td>\n",
       "      <td>16</td>\n",
       "      <td>15</td>\n",
       "      <td>2</td>\n",
       "      <td>10</td>\n",
       "      <td>4</td>\n",
       "      <td>5</td>\n",
       "      <td>0</td>\n",
       "      <td>1</td>\n",
       "      <td>77</td>\n",
       "    </tr>\n",
       "    <tr>\n",
       "      <th>Self-emp-inc</th>\n",
       "      <td>14</td>\n",
       "      <td>23</td>\n",
       "      <td>8</td>\n",
       "      <td>7</td>\n",
       "      <td>2</td>\n",
       "      <td>15</td>\n",
       "      <td>14</td>\n",
       "      <td>13</td>\n",
       "      <td>35</td>\n",
       "      <td>27</td>\n",
       "      <td>...</td>\n",
       "      <td>0</td>\n",
       "      <td>2</td>\n",
       "      <td>6</td>\n",
       "      <td>6</td>\n",
       "      <td>1</td>\n",
       "      <td>0</td>\n",
       "      <td>0</td>\n",
       "      <td>0</td>\n",
       "      <td>0</td>\n",
       "      <td>0</td>\n",
       "    </tr>\n",
       "    <tr>\n",
       "      <th>Self-emp-not-inc</th>\n",
       "      <td>22</td>\n",
       "      <td>41</td>\n",
       "      <td>44</td>\n",
       "      <td>33</td>\n",
       "      <td>35</td>\n",
       "      <td>40</td>\n",
       "      <td>40</td>\n",
       "      <td>61</td>\n",
       "      <td>70</td>\n",
       "      <td>90</td>\n",
       "      <td>...</td>\n",
       "      <td>22</td>\n",
       "      <td>13</td>\n",
       "      <td>6</td>\n",
       "      <td>2</td>\n",
       "      <td>3</td>\n",
       "      <td>3</td>\n",
       "      <td>0</td>\n",
       "      <td>0</td>\n",
       "      <td>7</td>\n",
       "      <td>9</td>\n",
       "    </tr>\n",
       "    <tr>\n",
       "      <th>State-gov</th>\n",
       "      <td>7</td>\n",
       "      <td>28</td>\n",
       "      <td>53</td>\n",
       "      <td>63</td>\n",
       "      <td>82</td>\n",
       "      <td>75</td>\n",
       "      <td>84</td>\n",
       "      <td>85</td>\n",
       "      <td>67</td>\n",
       "      <td>78</td>\n",
       "      <td>...</td>\n",
       "      <td>0</td>\n",
       "      <td>4</td>\n",
       "      <td>0</td>\n",
       "      <td>0</td>\n",
       "      <td>0</td>\n",
       "      <td>0</td>\n",
       "      <td>0</td>\n",
       "      <td>0</td>\n",
       "      <td>0</td>\n",
       "      <td>0</td>\n",
       "    </tr>\n",
       "    <tr>\n",
       "      <th>Without-pay</th>\n",
       "      <td>0</td>\n",
       "      <td>0</td>\n",
       "      <td>5</td>\n",
       "      <td>0</td>\n",
       "      <td>2</td>\n",
       "      <td>1</td>\n",
       "      <td>0</td>\n",
       "      <td>0</td>\n",
       "      <td>0</td>\n",
       "      <td>0</td>\n",
       "      <td>...</td>\n",
       "      <td>0</td>\n",
       "      <td>0</td>\n",
       "      <td>0</td>\n",
       "      <td>0</td>\n",
       "      <td>0</td>\n",
       "      <td>0</td>\n",
       "      <td>0</td>\n",
       "      <td>0</td>\n",
       "      <td>0</td>\n",
       "      <td>0</td>\n",
       "    </tr>\n",
       "    <tr>\n",
       "      <th>others</th>\n",
       "      <td>163</td>\n",
       "      <td>270</td>\n",
       "      <td>311</td>\n",
       "      <td>321</td>\n",
       "      <td>251</td>\n",
       "      <td>221</td>\n",
       "      <td>131</td>\n",
       "      <td>96</td>\n",
       "      <td>102</td>\n",
       "      <td>66</td>\n",
       "      <td>...</td>\n",
       "      <td>16</td>\n",
       "      <td>23</td>\n",
       "      <td>18</td>\n",
       "      <td>3</td>\n",
       "      <td>7</td>\n",
       "      <td>0</td>\n",
       "      <td>0</td>\n",
       "      <td>3</td>\n",
       "      <td>0</td>\n",
       "      <td>25</td>\n",
       "    </tr>\n",
       "  </tbody>\n",
       "</table>\n",
       "<p>9 rows × 73 columns</p>\n",
       "</div>"
      ],
      "text/plain": [
       "age               17.0  18.0  19.0  20.0  21.0  22.0  23.0  24.0  25.0  26.0  \\\n",
       "workclass                                                                      \n",
       "Federal-gov          2    11    16    26     4    30    38    37    22    38   \n",
       "Local-gov           36    24    23    36    28    55   101   101   123   140   \n",
       "Never-worked         2    11     0     3     0     0     3     0     0     0   \n",
       "Private            888  1204  1573  1627  1642  1750  2147  1879  2008  1805   \n",
       "Self-emp-inc        14    23     8     7     2    15    14    13    35    27   \n",
       "Self-emp-not-inc    22    41    44    33    35    40    40    61    70    90   \n",
       "State-gov            7    28    53    63    82    75    84    85    67    78   \n",
       "Without-pay          0     0     5     0     2     1     0     0     0     0   \n",
       "others             163   270   311   321   251   221   131    96   102    66   \n",
       "\n",
       "age               ...  80.0  81.0  82.0  83.0  84.0  85.0  86.0  87.0  88.0  \\\n",
       "workclass         ...                                                         \n",
       "Federal-gov       ...     0     0     0     0     0     0     0     0     0   \n",
       "Local-gov         ...     1     0     0     0     7     0     0     0     0   \n",
       "Never-worked      ...     0     0     0     0     0     0     0     0     0   \n",
       "Private           ...    22    16    15     2    10     4     5     0     1   \n",
       "Self-emp-inc      ...     0     2     6     6     1     0     0     0     0   \n",
       "Self-emp-not-inc  ...    22    13     6     2     3     3     0     0     7   \n",
       "State-gov         ...     0     4     0     0     0     0     0     0     0   \n",
       "Without-pay       ...     0     0     0     0     0     0     0     0     0   \n",
       "others            ...    16    23    18     3     7     0     0     3     0   \n",
       "\n",
       "age               90.0  \n",
       "workclass               \n",
       "Federal-gov          4  \n",
       "Local-gov           11  \n",
       "Never-worked         0  \n",
       "Private             77  \n",
       "Self-emp-inc         0  \n",
       "Self-emp-not-inc     9  \n",
       "State-gov            0  \n",
       "Without-pay          0  \n",
       "others              25  \n",
       "\n",
       "[9 rows x 73 columns]"
      ]
     },
     "execution_count": 13,
     "metadata": {},
     "output_type": "execute_result"
    }
   ],
   "source": [
    "pd.crosstab(df1.workclass,df1.age)"
   ]
  },
  {
   "cell_type": "code",
   "execution_count": 14,
   "metadata": {},
   "outputs": [
    {
     "data": {
      "text/html": [
       "<div>\n",
       "<style scoped>\n",
       "    .dataframe tbody tr th:only-of-type {\n",
       "        vertical-align: middle;\n",
       "    }\n",
       "\n",
       "    .dataframe tbody tr th {\n",
       "        vertical-align: top;\n",
       "    }\n",
       "\n",
       "    .dataframe thead th {\n",
       "        text-align: right;\n",
       "    }\n",
       "</style>\n",
       "<table border=\"1\" class=\"dataframe\">\n",
       "  <thead>\n",
       "    <tr style=\"text-align: right;\">\n",
       "      <th>income</th>\n",
       "      <th>&lt;=50K</th>\n",
       "      <th>&gt;50K</th>\n",
       "      <th>Total</th>\n",
       "    </tr>\n",
       "    <tr>\n",
       "      <th>workclass</th>\n",
       "      <th></th>\n",
       "      <th></th>\n",
       "      <th></th>\n",
       "    </tr>\n",
       "  </thead>\n",
       "  <tbody>\n",
       "    <tr>\n",
       "      <th>Federal-gov</th>\n",
       "      <td>1641</td>\n",
       "      <td>1063</td>\n",
       "      <td>2704</td>\n",
       "    </tr>\n",
       "    <tr>\n",
       "      <th>Local-gov</th>\n",
       "      <td>4178</td>\n",
       "      <td>1725</td>\n",
       "      <td>5903</td>\n",
       "    </tr>\n",
       "    <tr>\n",
       "      <th>Never-worked</th>\n",
       "      <td>22</td>\n",
       "      <td>0</td>\n",
       "      <td>22</td>\n",
       "    </tr>\n",
       "    <tr>\n",
       "      <th>Private</th>\n",
       "      <td>50732</td>\n",
       "      <td>14014</td>\n",
       "      <td>64746</td>\n",
       "    </tr>\n",
       "    <tr>\n",
       "      <th>Self-emp-inc</th>\n",
       "      <td>1405</td>\n",
       "      <td>1744</td>\n",
       "      <td>3149</td>\n",
       "    </tr>\n",
       "    <tr>\n",
       "      <th>Self-emp-not-inc</th>\n",
       "      <td>5169</td>\n",
       "      <td>2097</td>\n",
       "      <td>7266</td>\n",
       "    </tr>\n",
       "    <tr>\n",
       "      <th>State-gov</th>\n",
       "      <td>2674</td>\n",
       "      <td>989</td>\n",
       "      <td>3663</td>\n",
       "    </tr>\n",
       "    <tr>\n",
       "      <th>Without-pay</th>\n",
       "      <td>38</td>\n",
       "      <td>0</td>\n",
       "      <td>38</td>\n",
       "    </tr>\n",
       "    <tr>\n",
       "      <th>others</th>\n",
       "      <td>4549</td>\n",
       "      <td>521</td>\n",
       "      <td>5070</td>\n",
       "    </tr>\n",
       "    <tr>\n",
       "      <th>Total</th>\n",
       "      <td>70408</td>\n",
       "      <td>22153</td>\n",
       "      <td>92561</td>\n",
       "    </tr>\n",
       "  </tbody>\n",
       "</table>\n",
       "</div>"
      ],
      "text/plain": [
       "income            <=50K   >50K  Total\n",
       "workclass                            \n",
       "Federal-gov        1641   1063   2704\n",
       "Local-gov          4178   1725   5903\n",
       "Never-worked         22      0     22\n",
       "Private           50732  14014  64746\n",
       "Self-emp-inc       1405   1744   3149\n",
       "Self-emp-not-inc   5169   2097   7266\n",
       "State-gov          2674    989   3663\n",
       "Without-pay          38      0     38\n",
       "others             4549    521   5070\n",
       "Total             70408  22153  92561"
      ]
     },
     "execution_count": 14,
     "metadata": {},
     "output_type": "execute_result"
    }
   ],
   "source": [
    "pd.crosstab(df1.workclass, df1.income,margins=True, margins_name=\"Total\")"
   ]
  },
  {
   "cell_type": "markdown",
   "metadata": {},
   "source": [
    "### j) Obtain correlation between the above columns using pandas scatter plot"
   ]
  },
  {
   "cell_type": "code",
   "execution_count": 58,
   "metadata": {},
   "outputs": [
    {
     "data": {
      "image/png": "[encoded data removed]",
      "text/plain": [
       "<Figure size 576x576 with 36 Axes>"
      ]
     },
     "metadata": {
      "needs_background": "light"
     },
     "output_type": "display_data"
    }
   ],
   "source": [
    "numeric_data = df.select(num_features).toPandas()\n",
    "\n",
    "\n",
    "axs = pd.plotting.scatter_matrix(numeric_data, figsize=(8, 8));\n",
    "n = len(numeric_data.columns)\n",
    "for i in range(n):\n",
    "    v = axs[i, 0]\n",
    "    v.yaxis.label.set_rotation(0)\n",
    "    v.yaxis.label.set_ha('right')\n",
    "    v.set_yticks(())\n",
    "    h = axs[n-1, i]\n",
    "    h.xaxis.label.set_rotation(90)\n",
    "    h.set_xticks(())\n",
    "\n"
   ]
  },
  {
   "cell_type": "markdown",
   "metadata": {},
   "source": [
    "## 3. Data Preprocessing"
   ]
  },
  {
   "cell_type": "code",
   "execution_count": null,
   "metadata": {
    "collapsed": true
   },
   "outputs": [],
   "source": []
  },
  {
   "cell_type": "code",
   "execution_count": 10,
   "metadata": {},
   "outputs": [
    {
     "data": {
      "text/plain": [
       "Row(age=22.0, workclass='Private', fnlwgt=148187.0, education='11th', education_num=7.0, marital_status='Never-married', occupation='Other-service', relationship='Other-relative', race='White', sex='Male', capital_gain=0.0, capital_loss=0.0, hours_per_week=40.0, native_country='United-States', income='<=50K')"
      ]
     },
     "execution_count": 10,
     "metadata": {},
     "output_type": "execute_result"
    }
   ],
   "source": [
    "from pyspark.sql.functions import *\n",
    "\n",
    "df.first()"
   ]
  },
  {
   "cell_type": "code",
   "execution_count": 11,
   "metadata": {},
   "outputs": [
    {
     "name": "stdout",
     "output_type": "stream",
     "text": [
      "+--------------------+---------------------+\n",
      "|      native_country|count(native_country)|\n",
      "+--------------------+---------------------+\n",
      "|  Holand-Netherlands|                    3|\n",
      "|             Hungary|                   38|\n",
      "|            Scotland|                   39|\n",
      "|            Honduras|                   40|\n",
      "|Outlying-US(Guam-...|                   44|\n",
      "|            Cambodia|                   46|\n",
      "|          Yugoslavia|                   46|\n",
      "|     Trinadad&Tobago|                   50|\n",
      "|            Thailand|                   52|\n",
      "|                Hong|                   54|\n",
      "|                Laos|                   55|\n",
      "|             Ireland|                   68|\n",
      "|             Ecuador|                   76|\n",
      "|                Peru|                   83|\n",
      "|           Nicaragua|                   97|\n",
      "|              France|                  100|\n",
      "|              Greece|                  102|\n",
      "|                Iran|                  110|\n",
      "|            Portugal|                  111|\n",
      "|               Haiti|                  122|\n",
      "+--------------------+---------------------+\n",
      "only showing top 20 rows\n",
      "\n"
     ]
    }
   ],
   "source": [
    "df.groupby('native_country').agg({'native_country': 'count'}).sort(asc(\"count(native_country)\")).show()"
   ]
  },
  {
   "cell_type": "code",
   "execution_count": 12,
   "metadata": {
    "collapsed": true
   },
   "outputs": [],
   "source": [
    "df_remove = df.filter(df[\"native_country\"] !='Holand-Netherlands')"
   ]
  },
  {
   "cell_type": "code",
   "execution_count": 13,
   "metadata": {
    "collapsed": true
   },
   "outputs": [],
   "source": [
    "from pyspark.ml import Pipeline\n",
    "from pyspark.ml.feature import StringIndexer, OneHotEncoder, VectorAssembler\n",
    "CATE_FEATURES = ['workclass', 'education', 'marital_status', 'occupation', 'relationship', 'race', 'sex', 'native_country']\n",
    "stages = [] # stages in our Pipeline\n",
    "for categoricalCol in CATE_FEATURES:\n",
    "    stringIndexer = StringIndexer(inputCol=categoricalCol, outputCol=categoricalCol + \"Index\")\n",
    "    encoder = OneHotEncoder(inputCol=stringIndexer.getOutputCol(),outputCol=categoricalCol + \"classVec\")\n",
    "    stages += [stringIndexer, encoder]"
   ]
  },
  {
   "cell_type": "code",
   "execution_count": 14,
   "metadata": {
    "collapsed": true
   },
   "outputs": [],
   "source": [
    "# Convert label into label indices using the StringIndexer\n",
    "label_stringIdx =  StringIndexer(inputCol=\"income\", outputCol=\"income_class\")\n",
    "stages += [label_stringIdx]"
   ]
  },
  {
   "cell_type": "code",
   "execution_count": 15,
   "metadata": {
    "collapsed": true
   },
   "outputs": [],
   "source": [
    "# List of continuous features\n",
    "CONTI_FEATURES  = ['age', 'fnlwgt','capital_gain', 'education_num', 'capital_loss', 'hours_per_week']"
   ]
  },
  {
   "cell_type": "code",
   "execution_count": 16,
   "metadata": {
    "collapsed": true
   },
   "outputs": [],
   "source": [
    "assemblerInputs = [c + \"classVec\" for c in CATE_FEATURES] + CONTI_FEATURES\n",
    "assembler = VectorAssembler(inputCols=assemblerInputs, outputCol=\"features\")\n",
    "stages += [assembler]"
   ]
  },
  {
   "cell_type": "markdown",
   "metadata": {},
   "source": [
    "## Build the Pipeline to perform multiple tasks"
   ]
  },
  {
   "cell_type": "code",
   "execution_count": 17,
   "metadata": {
    "collapsed": true
   },
   "outputs": [],
   "source": [
    "# Create a Pipeline.\n",
    "pipeline = Pipeline(stages=stages)\n",
    "pipelineModel = pipeline.fit(df_remove)\n",
    "model = pipelineModel.transform(df_remove)"
   ]
  },
  {
   "cell_type": "code",
   "execution_count": 18,
   "metadata": {},
   "outputs": [
    {
     "data": {
      "text/plain": [
       "[Row(age=22.0, workclass='Private', fnlwgt=148187.0, education='11th', education_num=7.0, marital_status='Never-married', occupation='Other-service', relationship='Other-relative', race='White', sex='Male', capital_gain=0.0, capital_loss=0.0, hours_per_week=40.0, native_country='United-States', income='<=50K', workclassIndex=0.0, workclassclassVec=SparseVector(8, {0: 1.0}), educationIndex=5.0, educationclassVec=SparseVector(15, {5: 1.0}), marital_statusIndex=1.0, marital_statusclassVec=SparseVector(6, {1: 1.0}), occupationIndex=5.0, occupationclassVec=SparseVector(14, {5: 1.0}), relationshipIndex=5.0, relationshipclassVec=SparseVector(5, {}), raceIndex=0.0, raceclassVec=SparseVector(4, {0: 1.0}), sexIndex=0.0, sexclassVec=SparseVector(1, {0: 1.0}), native_countryIndex=0.0, native_countryclassVec=SparseVector(40, {0: 1.0}), income_class=0.0, features=SparseVector(99, {0: 1.0, 13: 1.0, 24: 1.0, 34: 1.0, 48: 1.0, 52: 1.0, 53: 1.0, 93: 22.0, 94: 148187.0, 96: 7.0, 98: 40.0}))]"
      ]
     },
     "execution_count": 18,
     "metadata": {},
     "output_type": "execute_result"
    }
   ],
   "source": [
    "model.take(1)"
   ]
  },
  {
   "cell_type": "code",
   "execution_count": 19,
   "metadata": {
    "collapsed": true
   },
   "outputs": [],
   "source": [
    "from pyspark.ml.linalg import DenseVector\n",
    "input_data = model.rdd.map(lambda x: (x[\"income_class\"], DenseVector(x[\"features\"])))"
   ]
  },
  {
   "cell_type": "code",
   "execution_count": 20,
   "metadata": {
    "collapsed": true
   },
   "outputs": [],
   "source": [
    "df_train = spark.createDataFrame(input_data, [\"label\", \"features\"])"
   ]
  },
  {
   "cell_type": "code",
   "execution_count": 21,
   "metadata": {},
   "outputs": [
    {
     "name": "stdout",
     "output_type": "stream",
     "text": [
      "+-----+--------------------+\n",
      "|label|            features|\n",
      "+-----+--------------------+\n",
      "|  0.0|[1.0,0.0,0.0,0.0,...|\n",
      "|  0.0|[0.0,1.0,0.0,0.0,...|\n",
      "+-----+--------------------+\n",
      "only showing top 2 rows\n",
      "\n"
     ]
    }
   ],
   "source": [
    "df_train.show(2)"
   ]
  },
  {
   "cell_type": "markdown",
   "metadata": {},
   "source": [
    "### Split the dataset into two parts (80%-20%) as Train and Test Datasets"
   ]
  },
  {
   "cell_type": "code",
   "execution_count": 22,
   "metadata": {
    "collapsed": true
   },
   "outputs": [],
   "source": [
    "# Split the data into train and test sets\n",
    "train_data, test_data = df_train.randomSplit([.8,.2],seed=1234)"
   ]
  },
  {
   "cell_type": "code",
   "execution_count": 28,
   "metadata": {},
   "outputs": [
    {
     "name": "stdout",
     "output_type": "stream",
     "text": [
      "+-----+------------+\n",
      "|label|count(label)|\n",
      "+-----+------------+\n",
      "|  0.0|       56290|\n",
      "|  1.0|       17669|\n",
      "+-----+------------+\n",
      "\n"
     ]
    }
   ],
   "source": [
    "train_data.groupby('label').agg({'label': 'count'}).show()"
   ]
  },
  {
   "cell_type": "code",
   "execution_count": 29,
   "metadata": {},
   "outputs": [
    {
     "name": "stdout",
     "output_type": "stream",
     "text": [
      "+-----+------------+\n",
      "|label|count(label)|\n",
      "+-----+------------+\n",
      "|  0.0|       14115|\n",
      "|  1.0|        4484|\n",
      "+-----+------------+\n",
      "\n"
     ]
    }
   ],
   "source": [
    "test_data.groupby('label').agg({'label': 'count'}).show()"
   ]
  },
  {
   "cell_type": "code",
   "execution_count": 23,
   "metadata": {
    "collapsed": true
   },
   "outputs": [],
   "source": [
    "from pyspark.ml.classification import LogisticRegression,NaiveBayes, RandomForestClassifier, DecisionTreeClassifier, GBTClassifier\n",
    "from pyspark.ml.tuning import ParamGridBuilder, CrossValidator\n",
    "from pyspark.ml.evaluation import BinaryClassificationEvaluator\n",
    "from time import *\n",
    "evaluator = BinaryClassificationEvaluator()\n"
   ]
  },
  {
   "cell_type": "markdown",
   "metadata": {},
   "source": [
    "###  LogisticRegression"
   ]
  },
  {
   "cell_type": "code",
   "execution_count": 24,
   "metadata": {},
   "outputs": [
    {
     "name": "stdout",
     "output_type": "stream",
     "text": [
      "Time to train model: 712.209 seconds\n",
      "Model accuracy: 83.171%\n",
      "Test Area Under ROC: 0.8812191606287457\n",
      "Time to train model: 230.911 seconds\n"
     ]
    }
   ],
   "source": [
    "log_reg = LogisticRegression(maxIter=5)\n",
    "\n",
    "param_log_reg = ParamGridBuilder() \\\n",
    "    .addGrid(log_reg.regParam,[0.02, .08]) \\\n",
    "    .addGrid(log_reg.elasticNetParam,[0.2, 0.6]) \\\n",
    "    .build()\n",
    "    \n",
    "    \n",
    "cv_lr = CrossValidator(estimator=log_reg,\n",
    "                          estimatorParamMaps=param_log_reg,\n",
    "                          evaluator=evaluator,\n",
    "                          numFolds=3)\n",
    "\n",
    "\n",
    "start_time = time()\n",
    "\n",
    "lr_mod = cv_lr.fit(train_data)\n",
    "\n",
    "end_time = time()\n",
    "elapsed_time = end_time - start_time\n",
    "print(\"Time to train model: %.3f seconds\" % elapsed_time)\n",
    "\n",
    "def measure_report(model): \n",
    "    predictions = model.transform(test_data)\n",
    "    cm = predictions.select(\"label\", \"prediction\")\n",
    "    acc = float(cm.filter(cm.label == cm.prediction).count()) / cm.count()\n",
    "    print(\"Model accuracy: %.3f%%\" % (acc * 100))\n",
    "    print(\"Test Area Under ROC: \" + str(evaluator.evaluate(predictions, {evaluator.metricName: \"areaUnderROC\"})))\n",
    "\n",
    "start_time1 = time()    \n",
    "measure_report(model = lr_mod)\n",
    "end_time1 = time()\n",
    "elapsed_time1 = end_time1 - start_time1\n",
    "print(\"Time to train model: %.3f seconds\" % elapsed_time1)"
   ]
  },
  {
   "cell_type": "markdown",
   "metadata": {
    "collapsed": true
   },
   "source": [
    "###  RandomForestClassifier"
   ]
  },
  {
   "cell_type": "code",
   "execution_count": 25,
   "metadata": {},
   "outputs": [
    {
     "name": "stdout",
     "output_type": "stream",
     "text": [
      "Time to train model: 865.585 seconds\n",
      "Model accuracy: 82.375%\n",
      "Test Area Under ROC: 0.8922351538891541\n",
      "Time to train model: 230.198 seconds\n"
     ]
    }
   ],
   "source": [
    "random_forest = RandomForestClassifier()\n",
    "\n",
    "param_random_forest = ParamGridBuilder()\\\n",
    "    .addGrid(random_forest.numTrees,[20,50,100])\\\n",
    "    .build()\n",
    "\n",
    "cv_rf = CrossValidator(estimator=random_forest,\n",
    "                          estimatorParamMaps=param_random_forest,\n",
    "                          evaluator=evaluator,\n",
    "                          numFolds=3)\n",
    "\n",
    "start_time = time()\n",
    "\n",
    "rf_mod = cv_rf.fit(train_data)\n",
    "\n",
    "end_time = time()\n",
    "elapsed_time = end_time - start_time\n",
    "print(\"Time to train model: %.3f seconds\" % elapsed_time)\n",
    "\n",
    "def measure_report(model): \n",
    "    predictions = model.transform(test_data)\n",
    "    cm = predictions.select(\"label\", \"prediction\")\n",
    "    acc = float(cm.filter(cm.label == cm.prediction).count()) / cm.count()\n",
    "    print(\"Model accuracy: %.3f%%\" % (acc * 100))\n",
    "    print(\"Test Area Under ROC: \" + str(evaluator.evaluate(predictions, {evaluator.metricName: \"areaUnderROC\"})))\n",
    "\n",
    "    \n",
    "start_time1 = time()    \n",
    "measure_report(model = rf_mod)\n",
    "end_time1 = time()\n",
    "elapsed_time1 = end_time1 - start_time1\n",
    "print(\"Time to test model: %.3f seconds\" % elapsed_time1)"
   ]
  },
  {
   "cell_type": "markdown",
   "metadata": {},
   "source": [
    "###  NaiveBayes"
   ]
  },
  {
   "cell_type": "code",
   "execution_count": 26,
   "metadata": {},
   "outputs": [
    {
     "name": "stdout",
     "output_type": "stream",
     "text": [
      "Time to train model: 540.022 seconds\n",
      "Model accuracy: 78.192%\n",
      "Test Area Under ROC: 0.3668438148090917\n",
      "Time to test model: 229.132 seconds\n"
     ]
    }
   ],
   "source": [
    "naive_bayes = NaiveBayes()\n",
    "\n",
    "param_naive_bayes = ParamGridBuilder()\\\n",
    "    .addGrid(naive_bayes.smoothing,[0.4,1.0])\\\n",
    "    .build()\n",
    "    \n",
    "cv_nb = CrossValidator(estimator=naive_bayes,\n",
    "                          estimatorParamMaps=param_naive_bayes,\n",
    "                          evaluator=evaluator,\n",
    "                          numFolds=3)\n",
    "\n",
    "start_time = time()\n",
    "\n",
    "nb_mod = cv_nb.fit(train_data)\n",
    "\n",
    "end_time = time()\n",
    "elapsed_time = end_time - start_time\n",
    "print(\"Time to train model: %.3f seconds\" % elapsed_time)\n",
    "\n",
    "def measure_report(model): \n",
    "    predictions = model.transform(test_data)\n",
    "    cm = predictions.select(\"label\", \"prediction\")\n",
    "    acc = float(cm.filter(cm.label == cm.prediction).count()) / cm.count()\n",
    "    print(\"Model accuracy: %.3f%%\" % (acc * 100))\n",
    "    print(\"Test Area Under ROC: \" + str(evaluator.evaluate(predictions, {evaluator.metricName: \"areaUnderROC\"})))\n",
    "\n",
    "start_time1 = time() \n",
    "measure_report(model = nb_mod)\n",
    "end_time1 = time()\n",
    "elapsed_time1 = end_time1 - start_time1\n",
    "print(\"Time to test model: %.3f seconds\" % elapsed_time1)"
   ]
  },
  {
   "cell_type": "markdown",
   "metadata": {},
   "source": [
    "### DecisionTreeClassifier"
   ]
  },
  {
   "cell_type": "code",
   "execution_count": 29,
   "metadata": {},
   "outputs": [
    {
     "name": "stdout",
     "output_type": "stream",
     "text": [
      "Time to train model: 993.109 seconds\n",
      "Model accuracy: 96.532%\n",
      "Test Area Under ROC: 0.9569120244278629\n",
      "Time to train model: 235.352 seconds\n"
     ]
    }
   ],
   "source": [
    "# Create initial Decision Tree Model\n",
    "dt = DecisionTreeClassifier(maxDepth=2)\n",
    "\n",
    "\n",
    "param_dt = ParamGridBuilder()\\\n",
    "    .addGrid(dt.maxDepth, [2, 5, 10, 20, 30])\\\n",
    "    .addGrid(dt.maxBins, [10, 20, 40, 80, 100])\\\n",
    "    .build()\n",
    "\n",
    "\n",
    "# Create 5-fold CrossValidator\n",
    "cv_dt = CrossValidator(estimator = dt,\n",
    "                      estimatorParamMaps = param_dt,\n",
    "                      evaluator=evaluator,\n",
    "                      numFolds = 3)\n",
    "\n",
    "start_time = time()\n",
    "\n",
    "dt_mod = cv_dt.fit(train_data)\n",
    "\n",
    "end_time = time()\n",
    "elapsed_time = end_time - start_time\n",
    "print(\"Time to train model: %.3f seconds\" % elapsed_time)\n",
    "\n",
    "def measure_report(model): \n",
    "    predictions = model.transform(test_data)\n",
    "    cm = predictions.select(\"label\", \"prediction\")\n",
    "    acc = float(cm.filter(cm.label == cm.prediction).count()) / cm.count()\n",
    "    print(\"Model accuracy: %.3f%%\" % (acc * 100))\n",
    "    print(\"Test Area Under ROC: \" + str(evaluator.evaluate(predictions, {evaluator.metricName: \"areaUnderROC\"})))\n",
    "\n",
    "    \n",
    "start_time1 = time() \n",
    "measure_report(model = dt_mod)\n",
    "end_time1 = time()\n",
    "elapsed_time1 = end_time1 - start_time1\n",
    "print(\"Time to test model: %.3f seconds\" % elapsed_time1)"
   ]
  },
  {
   "cell_type": "markdown",
   "metadata": {},
   "source": [
    "###  GBTClassifier"
   ]
  },
  {
   "cell_type": "code",
   "execution_count": null,
   "metadata": {
    "collapsed": true
   },
   "outputs": [],
   "source": [
    "gbt = GBTClassifier(maxIter=10)\n",
    "\n",
    "\n",
    "param_gbt = (ParamGridBuilder()\n",
    "             .addGrid(gbt.maxDepth, [2, 4, 6])\n",
    "             .addGrid(gbt.maxBins, [20, 60])\n",
    "             .addGrid(gbt.maxIter, [10, 20])\n",
    "             .build())\n",
    "cv_gbt = CrossValidator(estimator=gbt, estimatorParamMaps=param_gbt, evaluator=evaluator, numFolds=5)\n",
    "\n",
    "\n",
    "start_time = time()\n",
    "\n",
    "gbt_mod = cv_gbt.fit(train_data)\n",
    "\n",
    "end_time = time()\n",
    "elapsed_time = end_time - start_time\n",
    "print(\"Time to train model: %.3f seconds\" % elapsed_time)\n",
    "\n",
    "def measure_report(model): \n",
    "    predictions = model.transform(test_data)\n",
    "    cm = predictions.select(\"label\", \"prediction\")\n",
    "    acc = float(cm.filter(cm.label == cm.prediction).count()) / cm.count()\n",
    "    print(\"Model accuracy: %.3f%%\" % (acc * 100))\n",
    "    print(\"Test Area Under ROC: \" + str(evaluator.evaluate(predictions, {evaluator.metricName: \"areaUnderROC\"})))\n",
    "\n",
    "    \n",
    "start_time1 = time() \n",
    "measure_report(model = gbt_mod)\n",
    "end_time1 = time()dx\n",
    "elapsed_time1 = end_time1 - start_time1\n",
    "print(\"Time to test model: %.3f seconds\" % elapsed_time1)"
   ]
  },
  {
   "cell_type": "markdown",
   "metadata": {
    "collapsed": true
   },
   "source": [
    "Time to train model: 2866.209 seconds\n",
    "Model accuracy: 86.585%\n",
    "Test Area Under ROC: 0.9250472100115559\n",
    "Time to test model: 431.895 seconds\n",
    "\n",
    "#result generated in standard pc"
   ]
  },
  {
   "cell_type": "markdown",
   "metadata": {
    "collapsed": true
   },
   "source": [
    "#####  Conculustion : \n",
    "#### 1) Decision Tree Give hightest accuracy of 96.53 % with processing time of 983 sec"
   ]
  }
 ],
 "metadata": {
  "kernelspec": {
   "display_name": "Python 3",
   "language": "python",
   "name": "python3"
  },
  "language_info": {
   "codemirror_mode": {
    "name": "ipython",
    "version": 3
   },
   "file_extension": ".py",
   "mimetype": "text/x-python",
   "name": "python",
   "nbconvert_exporter": "python",
   "pygments_lexer": "ipython3",
   "version": "3.7.6"
  }
 },
 "nbformat": 4,
 "nbformat_minor": 4
}
